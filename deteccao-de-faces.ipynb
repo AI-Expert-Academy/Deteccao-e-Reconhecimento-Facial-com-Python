{
 "cells": [
  {
   "cell_type": "markdown",
   "metadata": {
    "colab_type": "text",
    "id": "view-in-github"
   },
   "source": [
    "<a href=\"https://colab.research.google.com/github/AI-Expert-Academy/Deteccao-e-Reconhecimento-Facial-com-Python/blob/main/deteccao-de-faces.ipynb\" target=\"_parent\"><img src=\"https://colab.research.google.com/assets/colab-badge.svg\" alt=\"Open In Colab\"/></a>"
   ]
  },
  {
   "cell_type": "markdown",
   "metadata": {
    "id": "Hr3srPhYCEyr"
   },
   "source": [
    "# Importação das bibliotecas"
   ]
  },
  {
   "cell_type": "code",
   "execution_count": null,
   "metadata": {
    "id": "Zrxb0c7o_-FR"
   },
   "outputs": [],
   "source": [
    "import cv2 # OpenCV\n",
    "import numpy as np\n",
    "from google.colab.patches import cv2_imshow"
   ]
  },
  {
   "cell_type": "code",
   "execution_count": 3,
   "metadata": {
    "colab": {
     "base_uri": "https://localhost:8080/",
     "height": 35
    },
    "id": "r74anovqCVjK",
    "outputId": "d62434c6-92c0-42dc-c766-941a3041f566"
   },
   "outputs": [
    {
     "data": {
      "application/vnd.google.colaboratory.intrinsic+json": {
       "type": "string"
      },
      "text/plain": [
       "'4.11.0'"
      ]
     },
     "execution_count": 3,
     "metadata": {},
     "output_type": "execute_result"
    }
   ],
   "source": [
    "cv2.__version__"
   ]
  },
  {
   "cell_type": "markdown",
   "metadata": {
    "id": "un_c_So5Caid"
   },
   "source": [
    "# Detecção de faces com Haar cascade (OpenCV)"
   ]
  },
  {
   "cell_type": "code",
   "execution_count": null,
   "metadata": {
    "id": "ehrxqU3nCeev"
   },
   "outputs": [],
   "source": [
    "imagem = cv2.imread('/content/eu.jpg')"
   ]
  },
  {
   "cell_type": "code",
   "execution_count": null,
   "metadata": {},
   "outputs": [],
   "source": [
    "imagem.shape"
   ]
  },
  {
   "cell_type": "code",
   "execution_count": null,
   "metadata": {},
   "outputs": [],
   "source": [
    "cv2_imshow(imagem)"
   ]
  },
  {
   "cell_type": "markdown",
   "metadata": {},
   "source": [
    "## Transformação para escala de cinza"
   ]
  },
  {
   "cell_type": "code",
   "execution_count": null,
   "metadata": {},
   "outputs": [],
   "source": [
    "imagem_cinza = cv2.cvtColor(imagem, cv2.COLOR_BGR2GRAY)"
   ]
  },
  {
   "cell_type": "code",
   "execution_count": null,
   "metadata": {},
   "outputs": [],
   "source": [
    "imagem_cinza.shape"
   ]
  },
  {
   "cell_type": "code",
   "execution_count": null,
   "metadata": {},
   "outputs": [],
   "source": [
    "cv2_imshow(imagem_cinza)"
   ]
  },
  {
   "cell_type": "markdown",
   "metadata": {},
   "source": [
    "# Detectando faces"
   ]
  },
  {
   "cell_type": "code",
   "execution_count": null,
   "metadata": {},
   "outputs": [],
   "source": [
    "detector_facial = cv2.CascadeClassifier('/content/haarcascade_frontalface_default.xml')\n",
    "deteccoes = detector_facial.detectMultiScale(imagem_cinza)"
   ]
  },
  {
   "cell_type": "code",
   "execution_count": null,
   "metadata": {},
   "outputs": [],
   "source": [
    "deteccoes"
   ]
  },
  {
   "cell_type": "code",
   "execution_count": null,
   "metadata": {},
   "outputs": [],
   "source": [
    "len(deteccoes)"
   ]
  },
  {
   "cell_type": "code",
   "execution_count": null,
   "metadata": {},
   "outputs": [],
   "source": [
    "for (x ,y, w, h) in deteccoes:\n",
    "  #print(x, y, w, h)\n",
    "  cv2.rectangle(imagem, (x, y), (x+w, y+h), (0, 255, 255), 2)\n",
    "cv2_imshow(imagem)"
   ]
  },
  {
   "cell_type": "markdown",
   "metadata": {},
   "source": [
    "# Redimensionamento da imagem"
   ]
  },
  {
   "cell_type": "code",
   "execution_count": null,
   "metadata": {},
   "outputs": [],
   "source": [
    "imagem_grande = cv2.imread('/content/people1.jpg')\n",
    "imagem_grande_cinza = cv2.cvtColor(imagem_grande, cv2.COLOR_BGR2GRAY)\n",
    "deteccoes = detector_facial.detectMultiScale(imagem_grande_cinza)\n",
    "#print(len(deteccoes))\n",
    "\n",
    "for (x,y,w,h) in deteccoes:\n",
    "  cv2.rectangle(imagem_grande, (x,y), (x+w, y+h), (0,255,255), 3)\n",
    "cv2_imshow(imagem_grande)"
   ]
  },
  {
   "cell_type": "markdown",
   "metadata": {},
   "source": [
    "## Redimensionando manualmente"
   ]
  },
  {
   "cell_type": "code",
   "execution_count": null,
   "metadata": {},
   "outputs": [],
   "source": [
    "imagem_grande = cv2.imread('/content/people1.jpg')\n",
    "imagem_grande_redimensionada = cv2.resize(imagem_grande, (600, 480))\n",
    "cv2_imshow(imagem_grande_redimensionada)"
   ]
  },
  {
   "cell_type": "markdown",
   "metadata": {},
   "source": [
    "### Conclusão\n",
    "\n",
    "Reconhecimento manual pode levar a casos onde a imagem não fica legal.\n",
    "\n",
    "### Calculando a nova altura manualmente"
   ]
  },
  {
   "cell_type": "code",
   "execution_count": null,
   "metadata": {},
   "outputs": [],
   "source": [
    "nova_largura = 600\n",
    "proporcao = 1680 / 1120\n",
    "nova_altura = int(nova_largura / proporcao)\n",
    "print(nova_altura)"
   ]
  },
  {
   "cell_type": "code",
   "execution_count": null,
   "metadata": {},
   "outputs": [],
   "source": [
    "imagem_grande = cv2.imread('/content/people1.jpg')\n",
    "imagem_grande_redimensionada2 = cv2.resize(imagem_grande, (nova_largura, nova_altura))\n",
    "cv2_imshow(imagem_grande_redimensionada2)"
   ]
  },
  {
   "cell_type": "markdown",
   "metadata": {},
   "source": [
    "## Redimensionando com escala"
   ]
  },
  {
   "cell_type": "code",
   "execution_count": null,
   "metadata": {},
   "outputs": [],
   "source": [
    "imagem_grande = cv2.imread('/content/people1.jpg')\n",
    "imagem_grande_redimensionada = cv2.resize(imagem_grande, (0,0), fx=0.25, fy=0.25)\n",
    "imagem_grande_redimensionada.shape\n",
    "cv2_imshow(imagem_grande_redimensionada)\n",
    "\n",
    "imagem_grande_redimensionada_cinza = cv2.cvtColor(imagem_grande_redimensionada, cv2.COLOR_BGR2GRAY)\n",
    "cv2_imshow(imagem_grande_redimensionada_cinza)\n",
    "deteccoes = detector_facial.detectMultiScale(imagem_grande_redimensionada_cinza)\n",
    "\n",
    "for (x,y,w,h) in deteccoes:\n",
    "  cv2.rectangle(imagem_grande_redimensionada, (x,y), (x+w, y+h), (0,255,255), 3)\n",
    "cv2_imshow(imagem_grande_redimensionada)"
   ]
  },
  {
   "cell_type": "markdown",
   "metadata": {},
   "source": [
    "### Conclusão\n",
    "\n",
    "Muito mais simples e tende a levar a resultados melhores, mas devem existir onde a redimensionamento manual deve se aplicar melhor."
   ]
  },
  {
   "cell_type": "markdown",
   "metadata": {},
   "source": [
    "## Parâmetros Haarcascade\n",
    "\n",
    "### scaleFactor\n",
    "\n",
    "Utilizado para especificar quanto o tamanho da imagem é reduzido a cada \"escala\" de imagem. É utilizado para criar pirâmde de escala."
   ]
  },
  {
   "cell_type": "code",
   "execution_count": null,
   "metadata": {},
   "outputs": [],
   "source": [
    "imagem = cv2.imread('/content/people2.jpg')\n",
    "imagem_cinza = cv2.cvtColor(imagem, cv2.COLOR_BGR2GRAY)\n",
    "\n",
    "deteccoes = detector_facial.detectMultiScale(imagem_cinza, scaleFactor=1.2)\n",
    "\n",
    "for(x,y,w,h) in deteccoes:\n",
    "  cv2.rectangle(imagem, (x,y), (x+w, y+h), (0,0 ,255), 3)\n",
    "cv2_imshow(imagem)"
   ]
  }
 ],
 "metadata": {
  "colab": {
   "authorship_tag": "ABX9TyNqK79kSKjwGzwYa8MojvU4",
   "include_colab_link": true,
   "provenance": []
  },
  "kernelspec": {
   "display_name": "Python 3 (ipykernel)",
   "language": "python",
   "name": "python3"
  },
  "language_info": {
   "codemirror_mode": {
    "name": "ipython",
    "version": 3
   },
   "file_extension": ".py",
   "mimetype": "text/x-python",
   "name": "python",
   "nbconvert_exporter": "python",
   "pygments_lexer": "ipython3",
   "version": "3.13.2"
  }
 },
 "nbformat": 4,
 "nbformat_minor": 4
}
