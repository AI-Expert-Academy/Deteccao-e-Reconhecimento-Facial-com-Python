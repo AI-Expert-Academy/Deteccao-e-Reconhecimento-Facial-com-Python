{
 "cells": [
  {
   "cell_type": "markdown",
   "metadata": {
    "colab_type": "text",
    "id": "view-in-github"
   },
   "source": [
    "<a href=\"https://colab.research.google.com/github/AI-Expert-Academy/Deteccao-e-Reconhecimento-Facial-com-Python/blob/main/deteccao-de-faces.ipynb\" target=\"_parent\"><img src=\"https://colab.research.google.com/assets/colab-badge.svg\" alt=\"Open In Colab\"/></a>"
   ]
  },
  {
   "cell_type": "markdown",
   "metadata": {
    "id": "Hr3srPhYCEyr"
   },
   "source": [
    "# Importação das bibliotecas"
   ]
  },
  {
   "cell_type": "code",
   "execution_count": null,
   "metadata": {
    "id": "Zrxb0c7o_-FR"
   },
   "outputs": [],
   "source": [
    "import cv2 # OpenCV\n",
    "import numpy as np\n",
    "from google.colab.patches import cv2_imshow"
   ]
  },
  {
   "cell_type": "code",
   "execution_count": 3,
   "metadata": {
    "colab": {
     "base_uri": "https://localhost:8080/",
     "height": 35
    },
    "id": "r74anovqCVjK",
    "outputId": "d62434c6-92c0-42dc-c766-941a3041f566"
   },
   "outputs": [
    {
     "data": {
      "application/vnd.google.colaboratory.intrinsic+json": {
       "type": "string"
      },
      "text/plain": [
       "'4.11.0'"
      ]
     },
     "execution_count": 3,
     "metadata": {},
     "output_type": "execute_result"
    }
   ],
   "source": [
    "cv2.__version__"
   ]
  },
  {
   "cell_type": "markdown",
   "metadata": {
    "id": "un_c_So5Caid"
   },
   "source": [
    "# Detecção de faces com Haar cascade (OpenCV)"
   ]
  },
  {
   "cell_type": "code",
   "execution_count": null,
   "metadata": {
    "id": "ehrxqU3nCeev"
   },
   "outputs": [],
   "source": [
    "imagem = cv2.imread('/content/eu.jpg')"
   ]
  },
  {
   "cell_type": "code",
   "execution_count": null,
   "metadata": {},
   "outputs": [],
   "source": [
    "imagem.shape"
   ]
  },
  {
   "cell_type": "code",
   "execution_count": null,
   "metadata": {},
   "outputs": [],
   "source": [
    "cv2_imshow(imagem)"
   ]
  },
  {
   "cell_type": "markdown",
   "metadata": {},
   "source": [
    "## Transformação para escala de cinza"
   ]
  },
  {
   "cell_type": "code",
   "execution_count": null,
   "metadata": {},
   "outputs": [],
   "source": [
    "imagem_cinza = cv2.cvtColor(imagem, cv2.COLOR_BGR2GRAY)"
   ]
  },
  {
   "cell_type": "code",
   "execution_count": null,
   "metadata": {},
   "outputs": [],
   "source": [
    "imagem_cinza.shape"
   ]
  },
  {
   "cell_type": "code",
   "execution_count": null,
   "metadata": {},
   "outputs": [],
   "source": [
    "cv2_imshow(imagem_cinza)"
   ]
  },
  {
   "cell_type": "markdown",
   "metadata": {},
   "source": [
    "# Detectando faces"
   ]
  },
  {
   "cell_type": "code",
   "execution_count": null,
   "metadata": {},
   "outputs": [],
   "source": [
    "detector_facial = cv2.CascadeClassifier('/content/haarcascade_frontalface_default.xml')\n",
    "deteccoes = detector_facial.detectMultiScale(imagem_cinza)"
   ]
  },
  {
   "cell_type": "code",
   "execution_count": null,
   "metadata": {},
   "outputs": [],
   "source": [
    "deteccoes"
   ]
  },
  {
   "cell_type": "code",
   "execution_count": null,
   "metadata": {},
   "outputs": [],
   "source": [
    "len(deteccoes)"
   ]
  },
  {
   "cell_type": "code",
   "execution_count": null,
   "metadata": {},
   "outputs": [],
   "source": [
    "for (x ,y, w, h) in deteccoes:\n",
    "  #print(x, y, w, h)\n",
    "  cv2.rectangle(imagem, (x, y), (x+w, y+h), (0, 255, 255), 2)\n",
    "cv2_imshow(imagem)"
   ]
  },
  {
   "cell_type": "markdown",
   "metadata": {},
   "source": [
    "# Redimensionamento da imagem"
   ]
  },
  {
   "cell_type": "code",
   "execution_count": null,
   "metadata": {},
   "outputs": [],
   "source": [
    "imagem_grande = cv2.imread('/content/people1.jpg')\n",
    "imagem_grande_cinza = cv2.cvtColor(imagem_grande, cv2.COLOR_BGR2GRAY)\n",
    "deteccoes = detector_facial.detectMultiScale(imagem_grande_cinza)\n",
    "#print(len(deteccoes))\n",
    "\n",
    "for (x,y,w,h) in deteccoes:\n",
    "  cv2.rectangle(imagem_grande, (x,y), (x+w, y+h), (0,255,255), 3)\n",
    "cv2_imshow(imagem_grande)"
   ]
  },
  {
   "cell_type": "markdown",
   "metadata": {},
   "source": [
    "## Redimensionando manualmente"
   ]
  },
  {
   "cell_type": "code",
   "execution_count": null,
   "metadata": {},
   "outputs": [],
   "source": [
    "imagem_grande = cv2.imread('/content/people1.jpg')\n",
    "imagem_grande_redimensionada = cv2.resize(imagem_grande, (600, 480))\n",
    "cv2_imshow(imagem_grande_redimensionada)"
   ]
  },
  {
   "cell_type": "markdown",
   "metadata": {},
   "source": [
    "### Conclusão\n",
    "\n",
    "Reconhecimento manual pode levar a casos onde a imagem não fica legal.\n",
    "\n",
    "### Calculando a nova altura manualmente"
   ]
  },
  {
   "cell_type": "code",
   "execution_count": null,
   "metadata": {},
   "outputs": [],
   "source": [
    "nova_largura = 600\n",
    "proporcao = 1680 / 1120\n",
    "nova_altura = int(nova_largura / proporcao)\n",
    "print(nova_altura)"
   ]
  },
  {
   "cell_type": "code",
   "execution_count": null,
   "metadata": {},
   "outputs": [],
   "source": [
    "imagem_grande = cv2.imread('/content/people1.jpg')\n",
    "imagem_grande_redimensionada2 = cv2.resize(imagem_grande, (nova_largura, nova_altura))\n",
    "cv2_imshow(imagem_grande_redimensionada2)"
   ]
  },
  {
   "cell_type": "markdown",
   "metadata": {},
   "source": [
    "## Redimensionando com escala"
   ]
  },
  {
   "cell_type": "code",
   "execution_count": null,
   "metadata": {},
   "outputs": [],
   "source": [
    "imagem_grande = cv2.imread('/content/people1.jpg')\n",
    "imagem_grande_redimensionada = cv2.resize(imagem_grande, (0,0), fx=0.25, fy=0.25)\n",
    "imagem_grande_redimensionada.shape\n",
    "cv2_imshow(imagem_grande_redimensionada)\n",
    "\n",
    "imagem_grande_redimensionada_cinza = cv2.cvtColor(imagem_grande_redimensionada, cv2.COLOR_BGR2GRAY)\n",
    "cv2_imshow(imagem_grande_redimensionada_cinza)\n",
    "deteccoes = detector_facial.detectMultiScale(imagem_grande_redimensionada_cinza)\n",
    "\n",
    "for (x,y,w,h) in deteccoes:\n",
    "  cv2.rectangle(imagem_grande_redimensionada, (x,y), (x+w, y+h), (0,255,255), 3)\n",
    "cv2_imshow(imagem_grande_redimensionada)"
   ]
  },
  {
   "cell_type": "markdown",
   "metadata": {},
   "source": [
    "### Conclusão\n",
    "\n",
    "Muito mais simples e tende a levar a resultados melhores, mas devem existir onde a redimensionamento manual deve se aplicar melhor."
   ]
  },
  {
   "cell_type": "markdown",
   "metadata": {},
   "source": [
    "## Parâmetros Haarcascade\n",
    "\n",
    "### scaleFactor\n",
    "\n",
    "Utilizado para especificar quanto o tamanho da imagem é reduzido a cada \"escala\" de imagem. É utilizado para criar pirâmde de escala."
   ]
  },
  {
   "cell_type": "code",
   "execution_count": null,
   "metadata": {},
   "outputs": [],
   "source": [
    "imagem = cv2.imread('/content/people2.jpg')\n",
    "imagem_cinza = cv2.cvtColor(imagem, cv2.COLOR_BGR2GRAY)\n",
    "\n",
    "deteccoes = detector_facial.detectMultiScale(imagem_cinza, scaleFactor=1.2)\n",
    "\n",
    "for(x,y,w,h) in deteccoes:\n",
    "  cv2.rectangle(imagem, (x,y), (x+w, y+h), (0,0 ,255), 3)\n",
    "cv2_imshow(imagem)"
   ]
  },
  {
   "cell_type": "markdown",
   "metadata": {},
   "source": [
    "## minNeighbors\n",
    "\n",
    "Parâmetro que controla o número mínimo de bounding boxes candidatos dado a deteccção de um rosto."
   ]
  },
  {
   "cell_type": "code",
   "execution_count": null,
   "metadata": {},
   "outputs": [],
   "source": [
    "imagem = cv2.imread('/content/people2.jpg')\n",
    "imagem_cinza = cv2.cvtColor(imagem, cv2.COLOR_BGR2GRAY)\n",
    "\n",
    "deteccoes = detector_facial.detectMultiScale(imagem_cinza, scaleFactor=1.2, minNeighbors=4)\n",
    "\n",
    "for(x,y,w,h) in deteccoes:\n",
    "  cv2.rectangle(imagem, (x,y), (x+w, y+h), (0,0 ,255), 3)\n",
    "cv2_imshow(imagem)"
   ]
  },
  {
   "cell_type": "markdown",
   "metadata": {},
   "source": [
    "## minSize e maxSize\n",
    "\n",
    "Parâmetros de filtragem de tamanhos mínimo e máximo dos bounding boxes encontrados."
   ]
  },
  {
   "cell_type": "code",
   "execution_count": null,
   "metadata": {},
   "outputs": [],
   "source": [
    "imagem = cv2.imread('/content/people2.jpg')\n",
    "imagem_cinza = cv2.cvtColor(imagem, cv2.COLOR_BGR2GRAY)\n",
    "\n",
    "deteccoes = detector_facial.detectMultiScale(imagem_cinza, minSize=(76,76))\n",
    "\n",
    "for(x,y,w,h) in deteccoes:\n",
    "  cv2.rectangle(imagem, (x,y), (x+w, y+h), (0,0 ,255), 3)\n",
    "  print(w, h)\n",
    "cv2_imshow(imagem)"
   ]
  },
  {
   "cell_type": "code",
   "execution_count": null,
   "metadata": {},
   "outputs": [],
   "source": [
    "imagem = cv2.imread('/content/people2.jpg')\n",
    "imagem_cinza = cv2.cvtColor(imagem, cv2.COLOR_BGR2GRAY)\n",
    "\n",
    "deteccoes = detector_facial.detectMultiScale(imagem_cinza, maxSize=(70,70))\n",
    "\n",
    "for(x,y,w,h) in deteccoes:\n",
    "  cv2.rectangle(imagem, (x,y), (x+w, y+h), (0,0 ,255), 3)\n",
    "  print(w, h)\n",
    "cv2_imshow(imagem)"
   ]
  },
  {
   "cell_type": "code",
   "execution_count": null,
   "metadata": {},
   "outputs": [],
   "source": [
    "imagem = cv2.imread('/content/people3.jpg')\n",
    "imagem_cinza = cv2.cvtColor(imagem, cv2.COLOR_BGR2GRAY)\n",
    "\n",
    "deteccoes = detector_facial.detectMultiScale(imagem_cinza, scaleFactor=1.001, minNeighbors=2, minSize=(50,50))\n",
    "\n",
    "for(x,y,w,h) in deteccoes:\n",
    "  cv2.rectangle(imagem, (x,y), (x+w, y+h), (0,0 ,255), 3)\n",
    "  print(w, h)\n",
    "cv2_imshow(imagem)"
   ]
  },
  {
   "cell_type": "markdown",
   "metadata": {},
   "source": [
    "## Conclusão\n",
    "\n",
    "Não é para todos os casos que o algoritmo haarcascade vai servir, visto a foto acima. A mudança de fatores de escala fez o algoritmo perder considerável performance e trouxe muitos falsos positivos."
   ]
  },
  {
   "cell_type": "markdown",
   "metadata": {},
   "source": [
    "# Detecção de olhos - Haarcascade"
   ]
  },
  {
   "cell_type": "code",
   "execution_count": null,
   "metadata": {},
   "outputs": [],
   "source": [
    "detector_olhos = cv2.CascadeClassifier('/content/haarcascade_eye.xml')"
   ]
  },
  {
   "cell_type": "code",
   "execution_count": null,
   "metadata": {},
   "outputs": [],
   "source": [
    "imagem = cv2.imread('/content/eyes.jpg')\n",
    "imagem_cinza = cv2.cvtColor(imagem, cv2.COLOR_BGR2GRAY)\n",
    "\n",
    "deteccoes = detector_olhos.detectMultiScale(imagem_cinza)\n",
    "\n",
    "for(x,y,w,h) in deteccoes:\n",
    "  cv2.rectangle(imagem, (x,y), (x+w,y+h), (0,0,255), 3)\n",
    "cv2_imshow(imagem)"
   ]
  },
  {
   "cell_type": "code",
   "execution_count": null,
   "metadata": {},
   "outputs": [],
   "source": [
    "imagem = cv2.imread('/content/person.jpg')\n",
    "imagem_cinza = cv2.cvtColor(imagem, cv2.COLOR_BGR2GRAY)\n",
    "\n",
    "deteccoes_face = detector_facial.detectMultiScale(imagem_cinza)\n",
    "deteccoes_olhos = detector_olhos.detectMultiScale(imagem_cinza, minSize=(40,40), minNeighbors=10)\n",
    "\n",
    "for(x,y,w,h) in deteccoes_face:\n",
    "  cv2.rectangle(imagem, (x,y), (x+w,y+h), (0,0,255), 3)\n",
    "\n",
    "for(x,y,w,h) in deteccoes_olhos:\n",
    "  cv2.rectangle(imagem, (x,y), (x+w,y+h), (0,255,0), 3)\n",
    "cv2_imshow(imagem)"
   ]
  },
  {
   "cell_type": "code",
   "execution_count": null,
   "metadata": {},
   "outputs": [],
   "source": [
    "imagem = cv2.imread('/content/people1.jpg')\n",
    "imagem = cv2.resize(imagem, (0,0), fx=0.5, fy=0.5)\n",
    "imagem_cinza = cv2.cvtColor(imagem, cv2.COLOR_BGR2GRAY)\n",
    "\n",
    "deteccoes_face = detector_facial.detectMultiScale(imagem_cinza)\n",
    "deteccoes_olhos = detector_olhos.detectMultiScale(imagem_cinza, minNeighbors=25, scaleFactor=1.01, minSize=(20,20), maxSize=(30,30))\n",
    "\n",
    "for(x,y,w,h) in deteccoes_face:\n",
    "  cv2.rectangle(imagem, (x,y), (x+w,y+h), (0,0,255), 3)\n",
    "\n",
    "for(x,y,w,h) in deteccoes_olhos:\n",
    "  print(w, h)\n",
    "  cv2.rectangle(imagem, (x,y), (x+w,y+h), (0,255,0), 3)\n",
    "cv2_imshow(imagem)"
   ]
  },
  {
   "cell_type": "markdown",
   "metadata": {},
   "source": [
    "# Detecção de sorrisos - Haarcascade"
   ]
  },
  {
   "cell_type": "code",
   "execution_count": null,
   "metadata": {},
   "outputs": [],
   "source": [
    "detector_sorrisos = cv2.CascadeClassifier('/content/haarcascade_smile.xml')"
   ]
  },
  {
   "cell_type": "code",
   "execution_count": null,
   "metadata": {},
   "outputs": [],
   "source": [
    "imagem = cv2.imread('/content/eu.jpg')\n",
    "imagem_cinza = cv2.cvtColor(imagem, cv2.COLOR_BGR2GRAY)\n",
    "\n",
    "deteccoes_face = detector_facial.detectMultiScale(imagem_cinza)\n",
    "deteccoes_olhos = detector_olhos.detectMultiScale(imagem_cinza, minNeighbors=10, scaleFactor=1.001, minSize=(40,40))\n",
    "deteccoes_sorrisos = detector_sorrisos.detectMultiScale(imagem_cinza, minNeighbors=30, minSize=(100,40))\n",
    "\n",
    "for(x,y,w,h) in deteccoes_face:\n",
    "  cv2.rectangle(imagem, (x,y), (x+w,y+h), (0,0,255), 3)\n",
    "\n",
    "for(x,y,w,h) in deteccoes_olhos:\n",
    "  cv2.rectangle(imagem, (x,y), (x+w,y+h), (0,255,0), 3)\n",
    "\n",
    "for(x,y,w,h) in deteccoes_sorrisos:\n",
    "  print(w, h)\n",
    "  cv2.rectangle(imagem, (x,y), (x+w,y+h), (255,0,0), 3)\n",
    "\n",
    "cv2_imshow(imagem)"
   ]
  },
  {
   "cell_type": "markdown",
   "metadata": {},
   "source": [
    "# Detecção de faces com HOG + SVM (Dlib)"
   ]
  },
  {
   "cell_type": "code",
   "execution_count": null,
   "metadata": {},
   "outputs": [],
   "source": [
    "import dlib"
   ]
  },
  {
   "cell_type": "code",
   "execution_count": null,
   "metadata": {},
   "outputs": [],
   "source": [
    "imagem = cv2.imread('/content/eu.jpg')\n",
    "imagem.shape\n",
    "\n",
    "# imagem = cv2.resize(imagem, (600,400))\n",
    "# cv2_imshow(imagem)"
   ]
  },
  {
   "cell_type": "code",
   "execution_count": null,
   "metadata": {},
   "outputs": [],
   "source": [
    "detector_face_hog = dlib.get_frontal_face_detector()"
   ]
  },
  {
   "cell_type": "code",
   "execution_count": null,
   "metadata": {},
   "outputs": [],
   "source": [
    "deteccoes = detector_face_hog(imagem)"
   ]
  },
  {
   "cell_type": "code",
   "execution_count": null,
   "metadata": {},
   "outputs": [],
   "source": [
    "deteccoes"
   ]
  },
  {
   "cell_type": "code",
   "execution_count": null,
   "metadata": {},
   "outputs": [],
   "source": [
    "for face in deteccoes:\n",
    "  left = face.left()\n",
    "  top = face.top()\n",
    "  right = face.right()\n",
    "  bottom = face.bottom()\n",
    "\n",
    "  cv2.rectangle(imagem, (left, top), (right, bottom), (0,0,255), 3)\n",
    "cv2_imshow(imagem)"
   ]
  },
  {
   "cell_type": "code",
   "execution_count": null,
   "metadata": {},
   "outputs": [],
   "source": [
    "import random\n",
    "\n",
    "imagem = cv2.imread('/content/rh1.jpg')\n",
    "deteccoes = detector_face_hog(imagem)\n",
    "\n",
    "for face in deteccoes:\n",
    "  left = face.left()\n",
    "  top = face.top()\n",
    "  right = face.right()\n",
    "  bottom = face.bottom()\n",
    "\n",
    "  cor = (random.randint(0,255), random.randint(0,255), random.randint(0,255))\n",
    "  cv2.rectangle(imagem, (left, top), (right, bottom), cor, 3)\n",
    "cv2_imshow(imagem)"
   ]
  },
  {
   "cell_type": "markdown",
   "metadata": {},
   "source": [
    "## Parâmetro Upsampling"
   ]
  },
  {
   "cell_type": "code",
   "execution_count": null,
   "metadata": {},
   "outputs": [],
   "source": [
    "imagem = cv2.imread('/content/people3.jpg')\n",
    "imagem_original = imagem.copy()"
   ]
  },
  {
   "cell_type": "code",
   "execution_count": null,
   "metadata": {},
   "outputs": [],
   "source": [
    "deteccoes = detector_face_hog(imagem, 1)\n",
    "for face in deteccoes:\n",
    "  left, top, right, bottom = face.left(), face.top(), face.right(), face.bottom()\n",
    "\n",
    "  cor = (0,255,255)\n",
    "  cv2.rectangle(imagem, (left, top), (right, bottom), cor, 2)\n",
    "cv2_imshow(imagem)"
   ]
  },
  {
   "cell_type": "code",
   "execution_count": null,
   "metadata": {},
   "outputs": [],
   "source": [
    "deteccoes = detector_face_hog(imagem, 3)\n",
    "for face in deteccoes:\n",
    "  left, top, right, bottom = face.left(), face.top(), face.right(), face.bottom()\n",
    "\n",
    "  cor = (0,0,255)\n",
    "  cv2.rectangle(imagem, (left, top), (right, bottom), cor, 2)\n",
    "cv2_imshow(imagem)"
   ]
  },
  {
   "cell_type": "code",
   "execution_count": null,
   "metadata": {},
   "outputs": [],
   "source": [
    "imagem = cv2.imread('/content/people5.jpg')\n",
    "deteccoes = detector_face_hog(imagem, 2)\n",
    "for face in deteccoes:\n",
    "  left, top, right, bottom = face.left(), face.top(), face.right(), face.bottom()\n",
    "\n",
    "  cor = (0,0,255)\n",
    "  cv2.rectangle(imagem, (left, top), (right, bottom), cor, 2)\n",
    "cv2_imshow(imagem)"
   ]
  }
 ],
 "metadata": {
  "colab": {
   "authorship_tag": "ABX9TyNqK79kSKjwGzwYa8MojvU4",
   "include_colab_link": true,
   "provenance": []
  },
  "kernelspec": {
   "display_name": "Python 3 (ipykernel)",
   "language": "python",
   "name": "python3"
  },
  "language_info": {
   "codemirror_mode": {
    "name": "ipython",
    "version": 3
   },
   "file_extension": ".py",
   "mimetype": "text/x-python",
   "name": "python",
   "nbconvert_exporter": "python",
   "pygments_lexer": "ipython3",
   "version": "3.13.2"
  }
 },
 "nbformat": 4,
 "nbformat_minor": 4
}
